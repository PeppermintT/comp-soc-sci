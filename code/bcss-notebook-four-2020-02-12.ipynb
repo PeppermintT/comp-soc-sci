{
 "cells": [
  {
   "cell_type": "markdown",
   "metadata": {},
   "source": [
    "![UKDS Logo](./images/UKDS_Logos_Col_Grey_300dpi.png)"
   ]
  },
  {
   "cell_type": "markdown",
   "metadata": {
    "slideshow": {
     "slide_type": "-"
    }
   },
   "source": [
    "# Being a Computational Social Scientist"
   ]
  },
  {
   "cell_type": "markdown",
   "metadata": {},
   "source": [
    "Welcome to the <a href=\"https://ukdataservice.ac.uk/\" target=_blank>UK Data Service</a> training series on *New Forms of Data for Social Science Research*. This series guides you through some of the most common and valuable new sources of data available for social science research: data collected from websites, social media platorms, text data, conducting simulations (agent based modelling), to name a few. To help you get to grips with these new forms of data, we provide webinars, interactive notebooks containing live programming code, reading lists and more.\n",
    "\n",
    "* To access training materials for the entire series: <a href=\"https://github.com/UKDataServiceOpen/new-forms-of-data\" target=_blank>[Training Materials]</a>\n",
    "\n",
    "* To keep up to date with upcoming and past training events: <a href=\"https://ukdataservice.ac.uk/news-and-events/events\" target=_blank>[Events]</a>\n",
    "\n",
    "* To get in contact with feedback, ideas or to seek assistance: <a href=\"https://ukdataservice.ac.uk/help.aspx\" target=_blank>[Help]</a>\n",
    "\n",
    "<a href=\"https://www.research.manchester.ac.uk/portal/julia.kasmire.html\" target=_blank>Dr Julia Kasmire</a> and <a href=\"https://www.research.manchester.ac.uk/portal/diarmuid.mcdonnell.html\" target=_blank>Dr Diarmuid McDonnell</a> <br />\n",
    "UK Data Service  <br />\n",
    "University of Manchester <br />\n",
    "May 2020"
   ]
  },
  {
   "cell_type": "markdown",
   "metadata": {
    "toc": true
   },
   "source": [
    "<h1>Table of Contents<span class=\"tocSkip\"></span></h1>\n",
    "<div class=\"toc\"><ul class=\"toc-item\"><li><span><a href=\"#Introduction\" data-toc-modified-id=\"Introduction-1\"><span class=\"toc-item-num\">1&nbsp;&nbsp;</span>Introduction</a></span></li><li><span><a href=\"#Guide-to-using-this-resource\" data-toc-modified-id=\"Guide-to-using-this-resource-2\"><span class=\"toc-item-num\">2&nbsp;&nbsp;</span>Guide to using this resource</a></span><ul class=\"toc-item\"><li><span><a href=\"#Interaction\" data-toc-modified-id=\"Interaction-2.1\"><span class=\"toc-item-num\">2.1&nbsp;&nbsp;</span>Interaction</a></span></li><li><span><a href=\"#Learn-more\" data-toc-modified-id=\"Learn-more-2.2\"><span class=\"toc-item-num\">2.2&nbsp;&nbsp;</span>Learn more</a></span></li></ul></li><li><span><a href=\"#Knowing-your-computational-environment\" data-toc-modified-id=\"Knowing-your-computational-environment-3\"><span class=\"toc-item-num\">3&nbsp;&nbsp;</span>Knowing your computational environment</a></span><ul class=\"toc-item\"><li><span><a href=\"#File-system-and-working-directory\" data-toc-modified-id=\"File-system-and-working-directory-3.1\"><span class=\"toc-item-num\">3.1&nbsp;&nbsp;</span>File system and working directory</a></span></li><li><span><a href=\"#Hardware-and-software\" data-toc-modified-id=\"Hardware-and-software-3.2\"><span class=\"toc-item-num\">3.2&nbsp;&nbsp;</span>Hardware and software</a></span></li></ul></li></ul></div>"
   ]
  },
  {
   "cell_type": "markdown",
   "metadata": {},
   "source": [
    "## Introduction\n",
    "\n",
    "Computational Social Science: it can be a scary, alluring, mystifying term. You may even be thinking, what's the big deal? Surely almost all social science involves the use of computers: we code our interviews using software such as NVivo; build our statistical models in SPSS, Stata etc; and generally conduct our research and teaching activities within a computational environment (e.g., personal desktop/laptop, Dropbox or iCloud for file storage). However, computational social science (CSS) refers to activities and technologies that go beyond what we're typically familiar with as social scientists:\n",
    "* The use of datasets that are too large to store on your personal machine; \n",
    "* Writing programming scripts to access information held in online databases; \n",
    "* Employing analytical techniques, derived from computer science, that reveal structures and patterns in large or unfamiliar datasets (e.g. network analysis, text mining). \n",
    "\n",
    "More formally, computational social science is an interdisciplinary branch of research, defined more by its methods and data than its substantive topics (Heiberger & Riebling, 2016). It is not limited to certain analytical approaches (e.g., Machine Learning) or data types (e.g., just text data). So what makes computational social science different from \"traditional\" social science? What types of knowledge and skills do you need to engage in computational methods? And why would you want to be a computational social scientist?\n",
    "\n",
    "In this lesson we will describe and demonstrate five key domains of computational social science:\n",
    "1. Thinking computationally\n",
    "2. Writing code\n",
    "3. Computational environments\n",
    "4. Manipulating structured and unstructured data\n",
    "5. Reproducibility of the scientific workflow\n",
    "\n",
    "We cover key theories and ideas behind each domain and provide example code, written in the popular Python programming language, that demonstrates some of the key skills computational social scientists need to develop."
   ]
  },
  {
   "cell_type": "markdown",
   "metadata": {},
   "source": [
    "## Guide to using this resource\n",
    "\n",
    "This learning resource was built using <a href=\"https://jupyter.org/\" target=_blank>Jupyter Notebook</a>, an open-source software application that allows you to mix code, results and narrative in a single document. As <a href=\"https://jupyter4edu.github.io/jupyter-edu-book/\" target=_blank>Barba et al. (2019)</a> espouse:\n",
    "> In a world where every subject matter can have a data-supported treatment, where computational devices are omnipresent and pervasive, the union of natural language and computation creates compelling communication and learning opportunities.\n",
    "\n",
    "If you are familiar with Jupyter notebooks then skip ahead to the main content (*Collecting data from online databases using an API*). Otherwise, the following is a quick guide to navigating and interacting with the notebook."
   ]
  },
  {
   "cell_type": "markdown",
   "metadata": {},
   "source": [
    "### Interaction\n",
    "\n",
    "**You only need to execute the code that is contained in sections which are marked by `In []`.**\n",
    "\n",
    "To execute a cell, click or double-click the cell and press the `Run` button on the top toolbar (you can also use the keyboard shortcut Shift + Enter).\n",
    "\n",
    "Try it for yourself:"
   ]
  },
  {
   "cell_type": "code",
   "execution_count": null,
   "metadata": {},
   "outputs": [],
   "source": [
    "print(\"Enter your name and press enter:\")\n",
    "name = input()\n",
    "print(\"\\r\")\n",
    "print(\"Hello {}, enjoy learning more about Python and computational social science!\".format(name)) "
   ]
  },
  {
   "cell_type": "markdown",
   "metadata": {},
   "source": [
    "### Learn more\n",
    "\n",
    "Jupyter notebooks provide rich, flexible features for conducting and documenting your data analysis workflow. To learn more about additional notebook features, we recommend working through some of the <a href=\"https://github.com/darribas/gds19/blob/master/content/labs/lab_00.ipynb\" target=_blank>materials</a> provided by Dani Arribas-Bel at the University of Liverpool. "
   ]
  },
  {
   "cell_type": "markdown",
   "metadata": {},
   "source": [
    "## Knowing your computational environment\n",
    "\n",
    "All computational social science activities are dependent on knowing how to setup, manage and share a computational environment. This can be as simple as understanding how and where files are located on your machine, to defining and documenting which software packages, versions and configurations are necessary to execute your data analysis. Whether you are thinking about scraping a web page or implementing an advanced machine learning algorithm, it all begins with establishing your computational environment. First, let's understand how files are stored and accessed on your machine."
   ]
  },
  {
   "cell_type": "markdown",
   "metadata": {},
   "source": [
    "[*Add materials from first code demo*]\n",
    "\n",
    "### File system and working directory\n",
    "\n",
    "It is critical that you think *logicially* and in an *organised* way about how you manage and store files for your project. This goes beyond just keeping your files and folders tidy using a graphic user interface, and requires that you know how to move around in and interpret command line interfaces. Although this may look a bit unfamiliar or even scary, the black window with stark contrast text and a blinky cursor will become your friend!\n",
    "\n",
    "First thing to know is that files and folders stored on your machine's hard drive can and be accessed in two ways:\n",
    "* Absolute path \n",
    "* Relative path\n",
    "\n",
    "Both the absolute and relative path are like directions to the location of a file or folder, but they differ in that relative path assumes that whoever is giving directions is in the same place as whoever is getting the directions while absolute path does not. \n",
    "\n",
    "For example, if someone were to ask me \"Where is your office?\" I would answer differently in different contexts. If I was talking on the phone to someone who wanted to send a book to my office, I would respond with an absolute path type answer and give the full postal address of my office. But if someone where standing in the lobby of my building and asked me where to drop something off after lunch, I would give a relative path answer and say which floor and which hallway to take out of the stairwell, plus my office number. \n",
    "\n",
    "It is not always easy to know whether you (the one giving the directions) are in the same file system location as the computer (the one giving directions), so you need to know how to ask for the current working directory (i.e., where *this* notebook, that you are working in right now is located).\n",
    "\n",
    "One way to do that is to ask by double clicking in the code cell below, just after the end of %cd%. Then either \n",
    "- hit the \"Run\" button at the top of the page or \n",
    "- use the keyboard shortcut Shift + Enter"
   ]
  },
  {
   "cell_type": "code",
   "execution_count": 1,
   "metadata": {},
   "outputs": [
    {
     "name": "stdout",
     "output_type": "stream",
     "text": [
      "C:\\Users\\t95171dm\\projects\\comp-soc-sci\\code\n"
     ]
    }
   ],
   "source": [
    "!echo %cd%"
   ]
  },
  {
   "cell_type": "markdown",
   "metadata": {},
   "source": [
    "What this is doing is asking the computer to repeat out loud (or 'echo') its current working directory (or 'cd'). This happens to be structured very much like an English language command, with the verb at the front and the object at the end, not unlike a \"Pass the salt\" or \"Close the door\". \n",
    "\n",
    "When you run a command like this in a code cell, the computer will execute the code and echo back to you its current directory. \n",
    "\n",
    "Another way to do that is to import a library called os (which stands for operating system) and ask the computer to use an os command called getcwd (short for get current working directory). Like the echo command above, this tells the computer to report where in the file structure it is currely at. Try double clicking in the code cell below and hitting \"Run\" or Shift + Enter."
   ]
  },
  {
   "cell_type": "code",
   "execution_count": 2,
   "metadata": {},
   "outputs": [
    {
     "data": {
      "text/plain": [
       "'C:\\\\Users\\\\t95171dm\\\\projects\\\\comp-soc-sci\\\\code'"
      ]
     },
     "execution_count": 2,
     "metadata": {},
     "output_type": "execute_result"
    }
   ],
   "source": [
    "import os\n",
    "\n",
    "os.getcwd()"
   ]
  },
  {
   "cell_type": "markdown",
   "metadata": {},
   "source": [
    "Unlike the echo command, this one is not structured so much like an English language command. Instead, it translates (more or less) to \"Using os, run the getcwd command (here)\". \n",
    "\n",
    "Although it is less English-like, os is very useful. For example, you can use it to get a list the contents of a directory. Put another way, that means \"Tell me everything that is in this folder\". Go ahead and double click/Run in the next cell. "
   ]
  },
  {
   "cell_type": "code",
   "execution_count": 3,
   "metadata": {},
   "outputs": [
    {
     "data": {
      "text/plain": [
       "['.ipynb_checkpoints',\n",
       " 'bcss-code-2020-05-06.ipynb',\n",
       " 'bcss-notebook-four-2020-02-12.ipynb',\n",
       " 'bcss-notebook-one-2020-02-12.ipynb',\n",
       " 'bcss-notebook-three-2020-02-12.ipynb',\n",
       " 'bcss-notebook-two-2020-02-12.ipynb',\n",
       " 'convert-data-structures-2010-03-16.ipynb',\n",
       " 'data',\n",
       " 'images',\n",
       " 'README.md']"
      ]
     },
     "execution_count": 3,
     "metadata": {},
     "output_type": "execute_result"
    }
   ],
   "source": [
    "os.listdir()"
   ]
  },
  {
   "cell_type": "markdown",
   "metadata": {},
   "source": [
    "Roughly translated, this command says \"Using os, list the contents of the directory (here)\". If you did not run the commands in the previous cell block (the command to import os), you would get an error here. If so, make sure you go back and run the commands to import os and then try this command block again. \n",
    "\n",
    "As well as getting os to list the contents of *here*, you can ask it to list the contents of directories that are *there* without you having to move to that and use os.listdir(). \n",
    "\n",
    "Double click/Run in the next code cell to see how that works. "
   ]
  },
  {
   "cell_type": "code",
   "execution_count": 4,
   "metadata": {},
   "outputs": [
    {
     "data": {
      "text/plain": [
       "['oxfam-csv-2020-03-16.csv',\n",
       " 'oxfam-csv-2020-03-16.json',\n",
       " 'oxfam-csv-2020-03-16.xml']"
      ]
     },
     "execution_count": 4,
     "metadata": {},
     "output_type": "execute_result"
    }
   ],
   "source": [
    "os.listdir(\"./data/\")"
   ]
  },
  {
   "cell_type": "markdown",
   "metadata": {},
   "source": [
    "If you look up to the results of asking os to list the contents of *here*, you will see that one of the items in the list was 'data'. When we asked os to list the contents of \"./data/\" we are asking it to list the contents of a directory or folder called 'data\" that is located here. \n",
    "\n",
    "To translate that a bit more, the \"./\" and the beginning of \"./data/\" means \"this directory here\" or \"this directory where we are now\". The \"data/\" part at the end of \"./data/\" means a directory called \"data\". If you put them together, it means \"a directory called 'data' that is in the directory here\".\n",
    "\n",
    "You can tell that both directories are directories, because of the \"/\" after \"data\" and after \".\". That \"/\" means that whatever precedes the \"/\" will be a directory, rather than a file or something else. "
   ]
  },
  {
   "cell_type": "markdown",
   "metadata": {},
   "source": [
    "### Hardware and software\n",
    "Your computational environment consists of hardware (e.g., the physical machine and its Central Processing Unit) and software (e.g., operating system, programming langauges and their versions, files). For instance, here is a snapshot of the environment of one of our work computersas of 2020-03-30. First, the operating system:"
   ]
  },
  {
   "cell_type": "raw",
   "metadata": {},
   "source": [
    "OS Name:                   Microsoft Windows 10 Enterprise\n",
    "OS Version:                10.0.17763 N/A Build 17763\n",
    "OS Manufacturer:           Microsoft Corporation\n",
    "Original Install Date:     28/02/2020, 16:42:11\n",
    "System Boot Time:          28/02/2020, 16:54:15\n",
    "System Manufacturer:       LENOVO\n",
    "System Model:              20NYS2B800\n",
    "System Type:               x64-based PC\n",
    "Processor(s):              1 Processor(s) Installed.\n",
    "                           Intel64 Family 6 Model 142 Stepping 12 G\n",
    "Total Physical Memory:     16,132 MB\n",
    "Available Physical Memory: 8,349 MB"
   ]
  },
  {
   "cell_type": "markdown",
   "metadata": {},
   "source": [
    "And the version of Python running on the computer, plus some of the additional packages (libraries) that were installed:\n",
    "\n",
    "[*Change this to !pip freeze and sys.modules()*]"
   ]
  },
  {
   "cell_type": "raw",
   "metadata": {},
   "source": [
    "Python 3.7.3\n",
    "\n",
    "qgrid==1.3.0\n",
    "QtAwesome==0.6.1\n",
    "qtconsole==4.7.1\n",
    "QtPy==1.9.0\n",
    "requests==2.23.0\n",
    "retrying==1.3.3\n",
    "rise==5.6.1\n",
    "rope==0.16.0\n",
    "ruamel-yaml==0.15.87\n",
    "scikit-image==0.16.2\n",
    "scikit-learn==0.22.1\n",
    "scipy==1.4.1\n",
    "seaborn==0.10.0"
   ]
  },
  {
   "cell_type": "markdown",
   "metadata": {},
   "source": [
    "Computational environments tend to be unique: for example, you may have different software applications installed on your machine compared to your classmate; or some machines in your computer lab run Windows 10, others Windows 7. This customisability presents considerable challenges for conducting, sharing and reproducing scientific work. In the words of the Turing Institute:<sup>[5]</sup>\n",
    "> The analysis should be *mobile*. Mobility of compute is defined as the ability to define, create, and maintain a workflow locally while remaining confident that the workflow can be executed elsewhere.\n",
    "\n",
    "Trying and failing to reproduce a piece of work after switching to a new machine is, frankly, soul destroying. Thankfully, there are numerous, simple technological solutions for capturing and sharing your computational environment."
   ]
  },
  {
   "cell_type": "markdown",
   "metadata": {},
   "source": [
    "[*Edit this entire section*]\n",
    "\n",
    "#### Capturing a computational environment\n",
    "\n",
    "If you run multiple projects, you may need more than one environment, achieved by using more than one machine or by _partitioning_ your machine into separate units. Each of these environments can then be customised for the kind of work you do on the different projects. \n",
    "\n",
    "For example, on one of my machines I have two environments: one for collecting charity data for Australia; and another for interacting with the [Companies House API](https://developer.companieshouse.gov.uk/api/docs/). Each environment has Python installed but they have different Python packages. I do not perform any web-scraping for the Companies House project, therefore I did not install the `requests` or `BeautifulSoup` packages in that environment. \n",
    "\n",
    "I find this beneficial because the the work I do on the different projects requires different packages, each of which can be picky about which versions of *other* packages I have installed. By keeping them separate, I can install or update only the packages I need, when I need them, without worrying that it will break the chain of requirements for one project by improving it for another. If I were to use one environment for all the different kinds of work I do, some of my scripts may break whenever I try to upgrade or install something that I need for only one project. Running separate environments for different projects allows me to manage these package dependencies carefully and correctly.\n",
    "\n",
    "Interacting with and undertanding your computer at a more fundamental level is also excellent training for running your own server for research (or other) purposes. What is a server? Think of it as a more powerful form of personal computer, running in the cloud, and your primary means of communicating with it is through the Command Line Interface (CLI). It is always on (barring any planned or unplanned downtime) and thus is particularly useful for running automated, scheduled tasks e.g. conducting a weekly scrape of a particular web page.\n",
    "\n",
    "[5]: https://the-turing-way.netlify.com/reproducible_environments/reproducible_environments.html"
   ]
  },
  {
   "cell_type": "markdown",
   "metadata": {},
   "source": [
    "<div style=\"text-align: right\"><a href=\"./bcss-notebook-three-2020-02-12.ipynb\" target=_blank><i>Previous section: Writing code</i></a> &nbsp;&nbsp;&nbsp;&nbsp; | &nbsp;&nbsp;&nbsp;&nbsp;<a href=\"./bcss-notebook-five-2020-02-12.ipynb\" target=_blank><i>Next section: Manipulating data</i></a></div>"
   ]
  }
 ],
 "metadata": {
  "kernelspec": {
   "display_name": "Python 3",
   "language": "python",
   "name": "python3"
  },
  "language_info": {
   "codemirror_mode": {
    "name": "ipython",
    "version": 3
   },
   "file_extension": ".py",
   "mimetype": "text/x-python",
   "name": "python",
   "nbconvert_exporter": "python",
   "pygments_lexer": "ipython3",
   "version": "3.7.3"
  },
  "toc": {
   "base_numbering": 1,
   "nav_menu": {},
   "number_sections": true,
   "sideBar": true,
   "skip_h1_title": true,
   "title_cell": "Table of Contents",
   "title_sidebar": "Contents",
   "toc_cell": true,
   "toc_position": {},
   "toc_section_display": true,
   "toc_window_display": false
  }
 },
 "nbformat": 4,
 "nbformat_minor": 2
}
