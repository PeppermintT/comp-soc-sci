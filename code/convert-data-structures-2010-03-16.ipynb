{
 "cells": [
  {
   "cell_type": "code",
   "execution_count": 22,
   "metadata": {},
   "outputs": [],
   "source": [
    "import csv\n",
    "import json\n",
    "import pandas as pd\n",
    "from dicttoxml import dicttoxml"
   ]
  },
  {
   "cell_type": "code",
   "execution_count": 23,
   "metadata": {},
   "outputs": [],
   "source": [
    "# Convert CSV to JSON \n",
    "\n",
    "df = pd.read_csv ('./data/oxfam-csv-2020-03-16.csv')\n",
    "df.to_json('./data/oxfam-csv-2020-03-16.json')"
   ]
  },
  {
   "cell_type": "code",
   "execution_count": 24,
   "metadata": {},
   "outputs": [],
   "source": [
    "# Convert JSON to XML\n",
    "\n",
    "with open('./data/oxfam-csv-2020-03-16.json', 'r') as f:\n",
    "    data = json.load(f)\n",
    "    \n",
    "type(data) # dictionary, therefore can use `dicttoxml`\n",
    "\n",
    "xml = dicttoxml(data)\n",
    "type(xml) # bytes. therefore 'wb' option when writing to file\n",
    "\n",
    "with open('./data/oxfam-csv-2020-03-16.xml', 'wb') as f:\n",
    "    f.write(xml)"
   ]
  }
 ],
 "metadata": {
  "kernelspec": {
   "display_name": "Python 3",
   "language": "python",
   "name": "python3"
  },
  "language_info": {
   "codemirror_mode": {
    "name": "ipython",
    "version": 3
   },
   "file_extension": ".py",
   "mimetype": "text/x-python",
   "name": "python",
   "nbconvert_exporter": "python",
   "pygments_lexer": "ipython3",
   "version": "3.7.3"
  }
 },
 "nbformat": 4,
 "nbformat_minor": 2
}
